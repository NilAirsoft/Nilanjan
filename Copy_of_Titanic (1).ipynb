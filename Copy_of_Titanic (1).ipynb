{
  "nbformat": 4,
  "nbformat_minor": 0,
  "metadata": {
    "colab": {
      "name": "Copy of Titanic.ipynb",
      "provenance": [],
      "collapsed_sections": []
    },
    "kernelspec": {
      "name": "python3",
      "display_name": "Python 3"
    }
  },
  "cells": [
    {
      "cell_type": "code",
      "metadata": {
        "id": "jnvgXPr3K3As",
        "colab_type": "code",
        "colab": {}
      },
      "source": [
        "import pandas as pd\n",
        "import matplotlib.pyplot as plt\n",
        "import seaborn as sns\n",
        "import numpy as np\n",
        "#import math\n",
        "titanic_cols = [ 'pclass', 'survived', 'name', 'sex', 'age', 'sibsp', 'parch', 'ticket', 'fare', \n",
        "                'cabin', 'embared', 'boat', 'body', 'home.dest']\n",
        "titanic = pd.read_csv('titanic.csv',  header = 0, names = titanic_cols) # reading data"
      ],
      "execution_count": 21,
      "outputs": []
    },
    {
      "cell_type": "code",
      "metadata": {
        "id": "_KFrXg_m-0ii",
        "colab_type": "code",
        "colab": {}
      },
      "source": [
        "titanic.head()"
      ],
      "execution_count": null,
      "outputs": []
    },
    {
      "cell_type": "code",
      "metadata": {
        "id": "E-GNhxR4-0-E",
        "colab_type": "code",
        "colab": {}
      },
      "source": [
        "titanic.shape"
      ],
      "execution_count": null,
      "outputs": []
    },
    {
      "cell_type": "code",
      "metadata": {
        "id": "4uUV-tE2jaBD",
        "colab_type": "code",
        "colab": {}
      },
      "source": [
        "titanic.describe()"
      ],
      "execution_count": null,
      "outputs": []
    },
    {
      "cell_type": "code",
      "metadata": {
        "id": "wCo5N_eLGUEP",
        "colab_type": "code",
        "colab": {}
      },
      "source": [
        "titanic.survived.dropna(inplace = True)\n",
        "labels = titanic.survived.value_counts().index\n",
        "colors = ['blue', 'green']\n",
        "explode = [0,0]\n",
        "sizes = titanic.survived.value_counts().values\n",
        "plt.figure(figsize = (7,7))\n",
        "plt.pie(sizes, explode=explode, labels=labels, colors=colors, autopct='%1.1f%%')\n",
        "plt.legend()\n",
        "plt.title('Not Survived vs Survived',color = 'black',fontsize = 15)"
      ],
      "execution_count": null,
      "outputs": []
    },
    {
      "cell_type": "code",
      "metadata": {
        "id": "SCJ7pB_B6PkY",
        "colab_type": "code",
        "colab": {}
      },
      "source": [
        "g = sns.catplot(x='pclass', hue='sex', col='survived',\n",
        "                data=titanic, kind='count',\n",
        "                height=4, aspect=.7);\n"
      ],
      "execution_count": null,
      "outputs": []
    },
    {
      "cell_type": "code",
      "metadata": {
        "id": "NAmYLUnVrISA",
        "colab_type": "code",
        "colab": {}
      },
      "source": [
        "def titanic_children(passenger):\n",
        "    \n",
        "    age , sex = passenger\n",
        "    if age <16:\n",
        "        return 'children'\n",
        "    else:\n",
        "        return sex\n",
        "\n",
        "titanic['person'] = titanic[['age','sex']].apply(titanic_children,axis=1)"
      ],
      "execution_count": 15,
      "outputs": []
    },
    {
      "cell_type": "code",
      "metadata": {
        "id": "C-AlBAL-qIKm",
        "colab_type": "code",
        "colab": {}
      },
      "source": [
        "sns.catplot(x ='person', hue ='survived',  \n",
        "kind ='count', col='pclass', data = titanic) "
      ],
      "execution_count": null,
      "outputs": []
    },
    {
      "cell_type": "code",
      "metadata": {
        "id": "FGSO_bxVQHHJ",
        "colab_type": "code",
        "colab": {}
      },
      "source": [
        "sns.set(style='darkgrid')\n",
        "titanic = sns.load_dataset('titanic')\n",
        "total = float(len(titanic)) \n",
        "#ax = sns.barplot(x=\"class\", hue=\"who\", data=titanic)\n",
        "ax = sns.countplot(x='pclass', hue='who', data=titanic) \n",
        "for p in ax.patches:\n",
        "    height = p.get_height()\n",
        "    ax.text(p.get_x()+p.get_width()/2.,\n",
        "            height + 3,\n",
        "            '{:1.2f}'.format(height),\n",
        "            ha=\"center\") \n"
      ],
      "execution_count": null,
      "outputs": []
    },
    {
      "cell_type": "code",
      "metadata": {
        "id": "p8JbBOchEf9G",
        "colab_type": "code",
        "colab": {}
      },
      "source": [
        "titanic['age'].hist(bins=70)\n",
        "plt.xlabel(\"age \")\n",
        "plt.ylabel(\"no of people\")\n",
        "plt.title('Age ',color = 'black',fontsize = 15)"
      ],
      "execution_count": null,
      "outputs": []
    },
    {
      "cell_type": "code",
      "metadata": {
        "id": "AbmoKlOzVx3e",
        "colab_type": "code",
        "colab": {
          "base_uri": "https://localhost:8080/",
          "height": 284
        },
        "outputId": "1db58795-e9eb-4f1b-dff4-52bb319e8f7f"
      },
      "source": [
        "N = 1\n",
        "totalaboard = (2224)\n",
        "lifeboatcapacity = (1178)\n",
        "lifesaved = (710)\n",
        "ind = np.arange(N)    \n",
        "width = 0.5     \n",
        "p1 = plt.bar(ind, totalaboard, width)\n",
        "p2 = plt.bar(ind, lifeboatcapacity, width)\n",
        "p3 = plt.bar(ind, lifesaved, width, bottom=lifesaved)\n",
        "plt.ylabel('no of passengers')\n",
        "plt.title('Life Boat Capacity vs Total Aboard')\n",
        "plt.xticks(ind, ('L'))\n",
        "plt.yticks(np.arange(0, 3000, 500))\n",
        "plt.legend((p1[0], p2[0], p3[0]), ('Total aboard', 'Life saved', 'Lifeboat capacity'))\n",
        "for r1, r2, r3 in zip(p1, p2, p3):\n",
        "    h1 = r1.get_height()\n",
        "    h2 = r2.get_height()\n",
        "    h3 = r3.get_height()\n",
        "    plt.text(r1.get_x() + r1.get_width() / 2., h1 / 2., \"%d\" % h1, ha=\"center\", va=\"center\", color=\"white\", fontsize=16, fontweight=\"bold\")\n",
        "    plt.text(r2.get_x() + r2.get_width() / 2., h2 / 2., \"%d\" % h2, ha=\"center\", va=\"center\", color=\"white\", fontsize=16, fontweight=\"bold\")\n",
        "    plt.text(r3.get_x() + r3.get_width() / 2., h3 / 2., \"%d\" % h3, ha=\"center\", va=\"center\", color=\"white\", fontsize=16, fontweight=\"bold\")\n"
      ],
      "execution_count": 67,
      "outputs": [
        {
          "output_type": "display_data",
          "data": {
            "image/png": "[encoded data removed]",
            "text/plain": [
              "<Figure size 432x288 with 1 Axes>"
            ]
          },
          "metadata": {
            "tags": []
          }
        }
      ]
    }
  ]
}